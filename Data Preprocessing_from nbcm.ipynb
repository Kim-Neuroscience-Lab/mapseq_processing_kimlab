{
 "cells": [
  {
   "cell_type": "code",
   "execution_count": 1,
   "metadata": {},
   "outputs": [],
   "source": [
    "import pandas as pd\n",
    "import numpy as np\n",
    "import matplotlib as mpl\n",
    "from matplotlib import pyplot as plt\n",
    "from matplotlib.colors import LinearSegmentedColormap\n",
    "import matplotlib.gridspec as gridspec\n",
    "from matplotlib import patches\n",
    "import seaborn as sn\n",
    "from scipy.spatial.distance import pdist\n",
    "from sklearn.manifold import TSNE\n",
    "from scipy.stats import friedmanchisquare, kruskal\n",
    "from sklearn.cluster import k_means\n",
    "from sklearn.preprocessing import normalize \n",
    "#from fancyimpute import KNN\n",
    "import itertools\n",
    "#from adjustText import adjust_text\n",
    "import multiprocessing as mp\n",
    "from numpy import savetxt\n",
    "from numpy import loadtxt"
   ]
  },
  {
   "cell_type": "markdown",
   "metadata": {},
   "source": [
    "## Load in data\n"
   ]
  },
  {
   "cell_type": "code",
   "execution_count": 2,
   "metadata": {},
   "outputs": [
    {
     "name": "stdout",
     "output_type": "stream",
     "text": [
      "(4910, 8)\n",
      "CPU times: user 11.9 ms, sys: 991 µs, total: 12.8 ms\n",
      "Wall time: 12.5 ms\n"
     ]
    }
   ],
   "source": [
    "%%time\n",
    "#load barcodes\n",
    "barcodematrix = np.genfromtxt (r'/home/mwjacobs/mapseq_data_preprocess/p3_nbcm_combined_for-preprocess - Sheet1.csv', delimiter=',')\n",
    "barcodematrix = np.array(barcodematrix, dtype=np.float64)\n",
    "print(barcodematrix.shape)"
   ]
  },
  {
   "cell_type": "code",
   "execution_count": 3,
   "metadata": {},
   "outputs": [
    {
     "name": "stdout",
     "output_type": "stream",
     "text": [
      "(4910, 8)\n"
     ]
    }
   ],
   "source": [
    "#so you dont have to run the slow code above ^^^^ \n",
    "rawbarcodematrix = np.array(barcodematrix, dtype=np.float64)\n",
    "print(rawbarcodematrix.shape)"
   ]
  },
  {
   "cell_type": "markdown",
   "metadata": {},
   "source": [
    "## Preprocessing"
   ]
  },
  {
   "cell_type": "markdown",
   "metadata": {},
   "source": [
    "## 1) Organize into separate animals for processing"
   ]
  },
  {
   "cell_type": "code",
   "execution_count": 4,
   "metadata": {},
   "outputs": [
    {
     "name": "stdout",
     "output_type": "stream",
     "text": [
      "(4910, 8)\n"
     ]
    }
   ],
   "source": [
    "## Column Re-arrangement index according to sample key\n",
    "## Order as follows: PFC, NAc,LS, DLS, BNST, LH, BA, CeA, vCA1\n",
    "# Order as follows: RSP, PM, AM, A, RL, AL, LM, Cerebellum\n",
    "i1 = [0,1,2,3,4,5,6,7]\n",
    "#i2 = [9,10,11,12,13,14,15,16]\n",
    "\n",
    "##generates each barcodematrix for each animal with array conversion to \n",
    "##ensure new arrays generated in float.\n",
    "a1 = np.array(rawbarcodematrix[:,i1], dtype=np.float64)\n",
    "#a2 = np.array(rawbarcodematrix[:,i2], dtype=np.float64)\n",
    "\n",
    "\n",
    "print(a1.shape)\n",
    "#print(a2.shape)\n"
   ]
  },
  {
   "cell_type": "markdown",
   "metadata": {},
   "source": [
    "## 2) Cleaning "
   ]
  },
  {
   "cell_type": "code",
   "execution_count": 5,
   "metadata": {},
   "outputs": [
    {
     "name": "stdout",
     "output_type": "stream",
     "text": [
      "Animal 1 (4910, 8)\n",
      "4910\n"
     ]
    }
   ],
   "source": [
    "#remove empty barcoded cells\n",
    "def clean_up_zeros():\n",
    "    global a1,a2,a3,a4,a5,a6,a7,a8,a9,a10\n",
    "    a1 = a1[np.any(a1, axis=1)]\n",
    "    #a2 = a2[np.any(a2, axis=1)]\n",
    "clean_up_zeros()\n",
    "\n",
    "\n",
    "#remove all zero's among targets because they are useless\n",
    "a1 = a1[np.any(a1[:,0:8], axis=1)]\n",
    "#a2 = a2[np.any(a2[:,0:8], axis=1)]\n",
    "\n",
    "\n",
    "print(\"Animal 1\", a1.shape)\n",
    "#print(\"Animal 2\", a2.shape)\n",
    "\n",
    "# Total # of Cells\n",
    "print(a1.shape[0]) # + a2.shape[0])"
   ]
  },
  {
   "cell_type": "code",
   "execution_count": 6,
   "metadata": {},
   "outputs": [
    {
     "name": "stdout",
     "output_type": "stream",
     "text": [
      "Animal 1 (4910, 8)\n",
      "4910\n"
     ]
    }
   ],
   "source": [
    "#Removes any barcodes with a count in negative target area (e.g. DLS)\n",
    "d1 = a1[:,7] > 0\n",
    "a1 = a1[~d1]\n",
    "#d2 = a2[:,7] > 0\n",
    "#a2 = a2[~d2]\n",
    "\n",
    "\n",
    "print(\"Animal 1\", a1.shape)\n",
    "#print(\"Animal 2\", a2.shape)\n",
    "\n",
    "# Total # of Cells\n",
    "print(a1.shape[0]) # + a2.shape[0])"
   ]
  },
  {
   "cell_type": "markdown",
   "metadata": {},
   "source": [
    "## Filter Thresholds"
   ]
  },
  {
   "cell_type": "code",
   "execution_count": 7,
   "metadata": {},
   "outputs": [
    {
     "name": "stdout",
     "output_type": "stream",
     "text": [
      "Animal 1 (4910, 8)\n",
      "4910\n"
     ]
    }
   ],
   "source": [
    "##Threshold filtering for mininum # of counts in targets\n",
    "minim2 = 2\n",
    "\n",
    "filter01 = np.amax(a1[:,0:7], axis = 1) < minim2\n",
    "caa1 = a1[~filter01]\n",
    "#filter02 = np.amax(a2[:,0:7], axis = 1) < minim2\n",
    "#caa2 = a2[~filter02]\n",
    "\n",
    "\n",
    "\n",
    "print(\"Animal 1\", caa1.shape)\n",
    "#print(\"Animal 2\", caa2.shape)\n",
    "\n",
    "\n",
    "print(caa1.shape[0]) #+ caa2.shape[0])"
   ]
  },
  {
   "cell_type": "code",
   "execution_count": 8,
   "metadata": {},
   "outputs": [],
   "source": [
    "##conserved verbiage\n",
    "na1 = np.array(caa1)\n",
    "#na2 = np.array(caa2)\n",
    "\n"
   ]
  },
  {
   "cell_type": "code",
   "execution_count": 9,
   "metadata": {},
   "outputs": [
    {
     "name": "stdout",
     "output_type": "stream",
     "text": [
      "Animal 1 (4910, 8)\n",
      "4910\n"
     ]
    }
   ],
   "source": [
    "#keep floating\n",
    "f_a1 = np.array(na1, dtype=np.float64)\n",
    "#f_a2 = np.array(na2, dtype=np.float64)\n",
    "\n",
    "\n",
    "\n",
    "clean_up_zeros()\n",
    "print(\"Animal 1\", f_a1.shape)\n",
    "#print(\"Animal 2\", f_a2.shape)\n",
    "\n",
    "\n",
    "## Total # of Cells\n",
    "print(f_a1.shape[0]) # + f_a2.shape[0])"
   ]
  },
  {
   "cell_type": "code",
   "execution_count": 10,
   "metadata": {},
   "outputs": [
    {
     "name": "stdout",
     "output_type": "stream",
     "text": [
      "(4910, 8)\n"
     ]
    }
   ],
   "source": [
    "#bring all animals together\n",
    "#matrix = np.concatenate((f_a1,f_a2) axis=0) # if you use more animals\n",
    "#keep floating\n",
    "matrix = np.array(f_a1, dtype=np.float64)  #change to matrix if you have more\n",
    "print(matrix.shape)"
   ]
  },
  {
   "cell_type": "code",
   "execution_count": 11,
   "metadata": {},
   "outputs": [
    {
     "name": "stdout",
     "output_type": "stream",
     "text": [
      "(4910, 7)\n"
     ]
    }
   ],
   "source": [
    "##Delete animals with any value in DLS\n",
    "#old order for reference # Order as follows: PFC, NAc,LS, DLS, BNST, LH, BA, CeA, vCA1\n",
    "# Order as follows: RSP, PM, AM, A, RL, AL, LM, Cerebellum\n",
    "nondlsers = np.where(matrix[:,7] == 0)\n",
    "datas = matrix[nondlsers]\n",
    "ndata = np.array(np.delete(datas, 7, 1))\n",
    "fdata = ndata #np.array(np.delete(ndata, 6, 1))\n",
    "print(fdata.shape)"
   ]
  },
  {
   "cell_type": "code",
   "execution_count": 12,
   "metadata": {},
   "outputs": [],
   "source": [
    "##importing and adding first cohort data\n",
    "#cohort1 = loadtxt(r'/Users/markgergues/Box Sync/MAKheirbekLab/MAPseq/data/C1_fdata.csv', delimiter=',')\n",
    "#print(cohort1.shape)\n",
    "#print(fdata.shape)\n",
    "\n",
    "#combine with current data into new matrix\n",
    "#ffdata = np.concatenate((cohort1, fdata), axis=0)\n",
    "#finaldata = np.array(ffdata, dtype=np.float64)\n",
    "\n",
    "#print(finaldata.shape)"
   ]
  },
  {
   "cell_type": "code",
   "execution_count": 13,
   "metadata": {},
   "outputs": [
    {
     "name": "stdout",
     "output_type": "stream",
     "text": [
      "Cohort1 data not found. Proceeding with only current data.\n",
      "Final combined data shape: (4910, 7)\n"
     ]
    }
   ],
   "source": [
    "# Check if cohort1 data is available\n",
    "try:\n",
    "    cohort1 = loadtxt(r'/Users/markgergues/Box Sync/MAKheirbekLab/MAPseq/data/C1_fdata.csv', delimiter=',')\n",
    "    print(\"Cohort1 loaded successfully:\", cohort1.shape)\n",
    "except FileNotFoundError:\n",
    "    print(\"Cohort1 data not found. Proceeding with only current data.\")\n",
    "    cohort1 = np.empty((0, fdata.shape[1]))  # Create an empty array with the same number of columns as fdata\n",
    "\n",
    "# Combine cohort1 and current data into a new matrix\n",
    "ffdata = np.concatenate((cohort1, fdata), axis=0)\n",
    "finaldata = np.array(ffdata, dtype=np.float64)\n",
    "\n",
    "print(\"Final combined data shape:\", finaldata.shape)\n"
   ]
  },
  {
   "cell_type": "code",
   "execution_count": 14,
   "metadata": {},
   "outputs": [
    {
     "name": "stdout",
     "output_type": "stream",
     "text": [
      "(4910, 7)\n",
      "1.0\n"
     ]
    }
   ],
   "source": [
    "##Normalize barcodes to sum to 1 ===== nmatrix = normalize(fdata, axis=1, norm='l1')\n",
    "d1 = finaldata.copy()\n",
    "\n",
    "for row in range(len(d1)):\n",
    " rowmax = np.amax(d1[row], axis=0)\n",
    " d1[row] = d1[row]/rowmax\n",
    "\n",
    "\n",
    "print(d1.shape)\n",
    "print(np.amax(d1))"
   ]
  },
  {
   "cell_type": "code",
   "execution_count": 15,
   "metadata": {},
   "outputs": [
    {
     "name": "stdout",
     "output_type": "stream",
     "text": [
      "(4910, 7)\n",
      "      RSP        PM   AM    A        RL   AL   LM\n",
      "0     0.0  0.000000  0.0  0.0  1.000000  0.0  0.0\n",
      "1     0.0  0.000000  0.0  0.0  1.000000  0.0  0.0\n",
      "2     0.0  0.000000  0.0  0.0  1.000000  0.0  0.0\n",
      "3     0.0  0.000000  0.0  0.0  0.000000  0.0  1.0\n",
      "4     0.0  0.000000  0.0  1.0  0.000000  0.0  0.0\n",
      "...   ...       ...  ...  ...       ...  ...  ...\n",
      "4905  0.0  1.000000  0.0  0.0  0.000000  0.0  0.0\n",
      "4906  0.0  0.000601  0.0  0.0  0.000633  0.0  1.0\n",
      "4907  0.0  0.000000  0.0  0.0  0.000000  0.0  1.0\n",
      "4908  0.0  1.000000  0.0  0.0  0.000000  0.0  0.0\n",
      "4909  0.0  0.000000  0.0  0.0  0.000000  0.0  1.0\n",
      "\n",
      "[4910 rows x 7 columns]\n"
     ]
    }
   ],
   "source": [
    "##convert data into data frame\n",
    "df = pd.DataFrame(data=d1)\n",
    "## Order as follows: PFC, NAc,LS, DLS, BNST, LH, BA, CeA, vCA1\n",
    "# Order as follows: RSP, PM, AM, A, RL, AL, LM, Cerebellum\n",
    "df.columns = [\"RSP\", \"PM\", \"AM\",\"A\", \"RL\", \"AL\", \"LM\"]\n",
    "#save raw barcode counts post spikein normalization\n",
    "savetxt('finalmatrix.csv', d1, delimiter=',')\n",
    "savetxt('/home/mwjacobs/mapseq_data_preprocess/p3final.csv', d1, delimiter=',')\n",
    "print(df.shape)\n",
    "print(df)"
   ]
  },
  {
   "cell_type": "code",
   "execution_count": 16,
   "metadata": {},
   "outputs": [
    {
     "name": "stdout",
     "output_type": "stream",
     "text": [
      "1.0\n"
     ]
    }
   ],
   "source": [
    "print(np.amax(d1))"
   ]
  },
  {
   "cell_type": "markdown",
   "metadata": {},
   "source": [
    "## END OF PREPROCESSING DATA"
   ]
  },
  {
   "cell_type": "code",
   "execution_count": null,
   "metadata": {},
   "outputs": [],
   "source": []
  }
 ],
 "metadata": {
  "kernelspec": {
   "display_name": "Python 3 (ipykernel)",
   "language": "python",
   "name": "python3"
  },
  "language_info": {
   "codemirror_mode": {
    "name": "ipython",
    "version": 3
   },
   "file_extension": ".py",
   "mimetype": "text/x-python",
   "name": "python",
   "nbconvert_exporter": "python",
   "pygments_lexer": "ipython3",
   "version": "3.9.18"
  }
 },
 "nbformat": 4,
 "nbformat_minor": 4
}
